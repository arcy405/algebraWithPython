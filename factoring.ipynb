{
  "nbformat": 4,
  "nbformat_minor": 0,
  "metadata": {
    "colab": {
      "provenance": [],
      "authorship_tag": "ABX9TyNmcEP2F4p8NbPzX0a3Hu7X",
      "include_colab_link": true
    },
    "kernelspec": {
      "name": "python3",
      "display_name": "Python 3"
    },
    "language_info": {
      "name": "python"
    }
  },
  "cells": [
    {
      "cell_type": "markdown",
      "metadata": {
        "id": "view-in-github",
        "colab_type": "text"
      },
      "source": [
        "<a href=\"https://colab.research.google.com/github/arcy405/algebraWithPython/blob/main/factoring.ipynb\" target=\"_parent\"><img src=\"https://colab.research.google.com/assets/colab-badge.svg\" alt=\"Open In Colab\"/></a>"
      ]
    },
    {
      "cell_type": "markdown",
      "source": [
        "Use the modulus in a loop to find factor"
      ],
      "metadata": {
        "id": "BF1Q6hN5fqXc"
      }
    },
    {
      "cell_type": "code",
      "execution_count": 3,
      "metadata": {
        "colab": {
          "base_uri": "https://localhost:8080/"
        },
        "id": "TjSpi9YDfbxr",
        "outputId": "005948c6-17b4-4089-8196-687a821b1055"
      },
      "outputs": [
        {
          "output_type": "stream",
          "name": "stdout",
          "text": [
            "1\n",
            "2\n",
            "3\n",
            "4\n",
            "6\n",
            "12\n"
          ]
        }
      ],
      "source": [
        "# print(15%2)\n",
        "# print(45%10)\n",
        "\n",
        "number = 12\n",
        "\n",
        "# find all factors\n",
        "for test_factor in range(1, number+1):\n",
        "    if number%test_factor == 0:\n",
        "        print(test_factor)"
      ]
    },
    {
      "cell_type": "markdown",
      "source": [
        "Reduce factors to lowest terms"
      ],
      "metadata": {
        "id": "GTdbRo3ChMSx"
      }
    },
    {
      "cell_type": "code",
      "source": [
        "numerator = 12\n",
        "denominator = 24\n",
        "factor = 1\n",
        "\n",
        "# Find gre4atest common factor\n",
        "for test_factor in range(1, denominator+1):\n",
        "    if numerator%test_factor==0 and denominator%test_factor == 0:\n",
        "        factor = test_factor\n",
        "\n",
        "# Divide out greatest common factor\n",
        "n = int(numerator/factor)\n",
        "d = int(denominator/factor)\n",
        "\n",
        "print(\"original: \", numerator, \"/\", denominator)\n",
        "print(\"reduced: \", n, \"/\", d)"
      ],
      "metadata": {
        "colab": {
          "base_uri": "https://localhost:8080/"
        },
        "id": "BKsHHWf6fwWA",
        "outputId": "1c9ae455-dd28-4073-f432-5210052de34b"
      },
      "execution_count": 8,
      "outputs": [
        {
          "output_type": "stream",
          "name": "stdout",
          "text": [
            "original:  12 / 24\n",
            "reduced:  1 / 2\n"
          ]
        }
      ]
    },
    {
      "cell_type": "markdown",
      "source": [
        "You can add this code to decimal to fraction code"
      ],
      "metadata": {
        "id": "92HdhWtzii3_"
      }
    },
    {
      "cell_type": "code",
      "source": [
        "# Get the decimal number to convert\n",
        "digits = input(\"Enter a decimal number to convert: \")\n",
        "\n",
        "# Convert to fraction\n",
        "exponent = int(len(digits))-1\n",
        "n = float(digits)\n",
        "\n",
        "numerator = int(n * 10**exponent)\n",
        "denominator = 10**exponent\n",
        "\n",
        "# Reduce that fraction\n",
        "factor = 1\n",
        "for test_factor in range(1, denominator+1):\n",
        "    if numerator%test_factor==0 and denominator%test_factor==0:\n",
        "        factor = test_factor\n",
        "\n",
        "# Divide out greatest common factor\n",
        "num = int(numerator/factor)\n",
        "den = int(denominator/factor)\n",
        "\n",
        "# Output\n",
        "print(\"The decimal is :\", n)\n",
        "print(\"The fraction is\", num, \"/\",den)"
      ],
      "metadata": {
        "colab": {
          "base_uri": "https://localhost:8080/"
        },
        "id": "elRtqqAghn6m",
        "outputId": "c62c521e-3c0e-4b03-9a5a-ec310d361c21"
      },
      "execution_count": 15,
      "outputs": [
        {
          "output_type": "stream",
          "name": "stdout",
          "text": [
            "Enter a decimal number to convert: 77\n",
            "The decimal is : 77.0\n",
            "The fraction is 77 / 1\n"
          ]
        }
      ]
    },
    {
      "cell_type": "markdown",
      "source": [
        "Next level... factoring sqaure roots"
      ],
      "metadata": {
        "id": "tRwsUXJ3ltdB"
      }
    },
    {
      "cell_type": "code",
      "source": [
        "import math\n",
        "\n",
        "print(math.sqrt(24))"
      ],
      "metadata": {
        "colab": {
          "base_uri": "https://localhost:8080/"
        },
        "id": "NCoK5xv2k7GE",
        "outputId": "61bb8956-f551-4122-d323-58c466d131f4"
      },
      "execution_count": 16,
      "outputs": [
        {
          "output_type": "stream",
          "name": "stdout",
          "text": [
            "4.898979485566356\n"
          ]
        }
      ]
    },
    {
      "cell_type": "code",
      "source": [],
      "metadata": {
        "id": "BVi1-C3Tl0YK"
      },
      "execution_count": null,
      "outputs": []
    }
  ]
}