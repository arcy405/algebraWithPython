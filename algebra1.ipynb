{
  "nbformat": 4,
  "nbformat_minor": 0,
  "metadata": {
    "colab": {
      "provenance": [],
      "collapsed_sections": [
        "NDlLeA2MUv14",
        "oOwaniCjbbLR",
        "F13p4Wicg8Pa",
        "ggSLccTfhq2o",
        "NQixpgs8jL0M",
        "ooBozyAJpazl"
      ],
      "authorship_tag": "ABX9TyNAbIOimUYY92UfBWYpOzlU",
      "include_colab_link": true
    },
    "kernelspec": {
      "name": "python3",
      "display_name": "Python 3"
    },
    "language_info": {
      "name": "python"
    }
  },
  "cells": [
    {
      "cell_type": "markdown",
      "metadata": {
        "id": "view-in-github",
        "colab_type": "text"
      },
      "source": [
        "<a href=\"https://colab.research.google.com/github/arcy405/algebraWithPython/blob/main/algebra1.ipynb\" target=\"_parent\"><img src=\"https://colab.research.google.com/assets/colab-badge.svg\" alt=\"Open In Colab\"/></a>"
      ]
    },
    {
      "cell_type": "markdown",
      "source": [
        "# Set up a proportion\n",
        "# n1/d1 = n2/d2"
      ],
      "metadata": {
        "id": "NDlLeA2MUv14"
      }
    },
    {
      "cell_type": "code",
      "source": [
        "# put a zero in for the unknown value\n",
        "n1 = 3\n",
        "d1 = 6\n",
        "n2 = 4\n",
        "d2 = 0\n",
        "\n",
        "if n2==0:\n",
        "    answer = d2 * n1/d1\n",
        "    print(\"answer: \", answer)\n",
        "\n",
        "if d2==0:\n",
        "    answer = n2 * d1/n1\n",
        "    print(\"answer: \", answer)"
      ],
      "metadata": {
        "colab": {
          "base_uri": "https://localhost:8080/"
        },
        "id": "hvG_OUQDU7ce",
        "outputId": "300980c4-6590-4bd4-8236-8c3320e8adc1"
      },
      "execution_count": null,
      "outputs": [
        {
          "output_type": "stream",
          "name": "stdout",
          "text": [
            "answer:  8.0\n"
          ]
        }
      ]
    },
    {
      "cell_type": "markdown",
      "source": [
        "# solving for x. The variable **eq** is the equation set equal to zero. This will print an array of solutions."
      ],
      "metadata": {
        "id": "oOwaniCjbbLR"
      }
    },
    {
      "cell_type": "code",
      "source": [
        "import sympy\n",
        "from sympy import symbols\n",
        "from sympy.solvers import solve\n",
        "\n",
        "x = symbols('x')\n",
        "\n",
        "# put the equation here\n",
        "# eq = x - 2\n",
        "# eq = x**2 - 4\n",
        "# eq = 2*x - 4\n",
        "eq = 2*x**2 + 1\n",
        "\n",
        "print(\"x = \", solve(eq,x))"
      ],
      "metadata": {
        "colab": {
          "base_uri": "https://localhost:8080/"
        },
        "id": "3Evd_OS8VhSp",
        "outputId": "dcc9dbbd-4e78-450c-c759-3960f789c442"
      },
      "execution_count": null,
      "outputs": [
        {
          "output_type": "stream",
          "name": "stdout",
          "text": [
            "x =  [-sqrt(2)*I/2, sqrt(2)*I/2]\n"
          ]
        }
      ]
    },
    {
      "cell_type": "code",
      "source": [
        "from sympy import symbols\n",
        "from sympy.solvers import solve\n",
        "\n",
        "x = symbols('x')\n",
        "eq = input(\"Enter equation: 0 = \")\n",
        "\n",
        "print(\"x= \", solve(eq,x))"
      ],
      "metadata": {
        "colab": {
          "base_uri": "https://localhost:8080/"
        },
        "id": "EwM_ixF0cBJx",
        "outputId": "0884a67a-9c6b-4342-f5f2-196d91ea2939"
      },
      "execution_count": null,
      "outputs": [
        {
          "output_type": "stream",
          "name": "stdout",
          "text": [
            "Enter equation: 0 = 3*x-9\n",
            "x=  [3]\n"
          ]
        }
      ]
    },
    {
      "cell_type": "markdown",
      "source": [
        "# doing more with thw solution"
      ],
      "metadata": {
        "id": "F13p4Wicg8Pa"
      }
    },
    {
      "cell_type": "code",
      "source": [
        "from sympy import symbols\n",
        "from sympy.solvers import solve\n",
        "\n",
        "x = symbols('x')\n",
        "\n",
        "# put the equation here\n",
        "eq = 2*x - 4\n",
        "\n",
        "solution = solve(eq,x)\n",
        "print(\"x = \", solution[0])"
      ],
      "metadata": {
        "colab": {
          "base_uri": "https://localhost:8080/"
        },
        "id": "gzb2Hj5jgbEI",
        "outputId": "1535e5e1-7355-4e0d-a8c3-4565c308ace4"
      },
      "execution_count": null,
      "outputs": [
        {
          "output_type": "stream",
          "name": "stdout",
          "text": [
            "x =  2\n"
          ]
        }
      ]
    },
    {
      "cell_type": "markdown",
      "source": [
        "# Multiple answers"
      ],
      "metadata": {
        "id": "ggSLccTfhq2o"
      }
    },
    {
      "cell_type": "code",
      "source": [
        "from sympy import symbols\n",
        "from sympy.solvers import solve\n",
        "\n",
        "x = symbols('x')\n",
        "\n",
        "# two different ways to get the equation\n",
        "# eq = 2*x - 4\n",
        "eq = input(\"Enter equation: 0 = \")\n",
        "\n",
        "solution = solve(eq,x)\n",
        "\n",
        "for s in solution:\n",
        "  print(\"x = \", s)\n"
      ],
      "metadata": {
        "colab": {
          "base_uri": "https://localhost:8080/"
        },
        "id": "LNzEW9IIhmNz",
        "outputId": "13548a08-6c51-4ce8-bcf9-c958030913fa"
      },
      "execution_count": null,
      "outputs": [
        {
          "output_type": "stream",
          "name": "stdout",
          "text": [
            "Enter equation: 0 = (x-1)*(x+4)*(x-11)\n",
            "x =  -4\n",
            "x =  1\n",
            "x =  11\n"
          ]
        }
      ]
    },
    {
      "cell_type": "markdown",
      "source": [
        "# Solving other ways"
      ],
      "metadata": {
        "id": "NQixpgs8jL0M"
      }
    },
    {
      "cell_type": "code",
      "source": [
        "from sympy import *\n",
        "\n",
        "var('x y')\n",
        "\n",
        "# First equation set equal to zero, ready to solve\n",
        "first = 2*x + 10 - y\n",
        "\n",
        "# Symoy syntax for equation equalt o zero, ready to factor\n",
        "# eq1 = Eq(first,0)\n",
        "eq1 = Eq(first,0)\n",
        "\n",
        "# Sympy solve for x\n",
        "sol = solve(eq1, x)\n",
        "\n",
        "# Show factored results\n",
        "print(\"x = \",sol[0])"
      ],
      "metadata": {
        "colab": {
          "base_uri": "https://localhost:8080/"
        },
        "id": "hSRcK-ndis1X",
        "outputId": "3a30d09b-07ba-407e-80fc-3a51677af0b9"
      },
      "execution_count": null,
      "outputs": [
        {
          "output_type": "stream",
          "name": "stdout",
          "text": [
            "x =  y/2 - 5\n"
          ]
        }
      ]
    },
    {
      "cell_type": "markdown",
      "source": [
        "# Factoring"
      ],
      "metadata": {
        "id": "ooBozyAJpazl"
      }
    },
    {
      "cell_type": "code",
      "source": [
        "import sympy\n",
        "from sympy import symbols\n",
        "\n",
        "var('x y')\n",
        "\n",
        "# Equation set equal to zero, ready to solve\n",
        "# eq = 2*x + 10*y + 8\n",
        "# eq = x**2 - 4\n",
        "eq = x**3 - 2*x**2 - 5*x + 6\n",
        "\n",
        "sympy.factor(eq)\n"
      ],
      "metadata": {
        "colab": {
          "base_uri": "https://localhost:8080/",
          "height": 39
        },
        "id": "78hEZfsWn1jF",
        "outputId": "0501a918-99dc-469a-a116-c9d7393432ff"
      },
      "execution_count": null,
      "outputs": [
        {
          "output_type": "execute_result",
          "data": {
            "text/plain": [
              "(x - 3)*(x - 1)*(x + 2)"
            ],
            "text/latex": "$\\displaystyle \\left(x - 3\\right) \\left(x - 1\\right) \\left(x + 2\\right)$"
          },
          "metadata": {},
          "execution_count": 35
        }
      ]
    },
    {
      "cell_type": "markdown",
      "source": [
        "# Explaining how each function works"
      ],
      "metadata": {
        "id": "9HWlYdd-1rWY"
      }
    },
    {
      "cell_type": "code",
      "source": [
        "print(3/4)"
      ],
      "metadata": {
        "colab": {
          "base_uri": "https://localhost:8080/"
        },
        "id": "33x7fyW5qXOh",
        "outputId": "2b3fe49e-5bc3-4820-9c9f-fbd8656172da"
      },
      "execution_count": null,
      "outputs": [
        {
          "output_type": "stream",
          "name": "stdout",
          "text": [
            "0.75\n"
          ]
        }
      ]
    },
    {
      "cell_type": "code",
      "source": [
        "# converts string input (including fractions) to float\n",
        "def string_fac(in_string):\n",
        "    if \"/\" in in_string:\n",
        "        nd = in_string.split(\"/\")\n",
        "        n = float(nd[0])\n",
        "        d = float(nd[1])\n",
        "        ans = n/d\n",
        "        return ans\n",
        "    else:\n",
        "        ans = float(in_string)\n",
        "        return ans\n",
        "\n",
        "# one-step multiply\n",
        "def one_step_mult():\n",
        "    # used string_frac(<input string>)\n",
        "    import random\n",
        "    a = random.randint(1,11)\n",
        "    b = random.randint(2,24)\n",
        "\n",
        "    print(a, \"x= \", b)\n",
        "    ans_in = (input(\"x = \"))\n",
        "    answer = b/a\n",
        "\n",
        "    # test\n",
        "    if string_fac(ans_in) == answer:\n",
        "      print(\"Correct! \\n\")\n",
        "    else:\n",
        "      print(\"Try again\")\n",
        "      print(\"The correct answer is\", answer, \"\\n\")\n",
        "\n",
        "# Simples one-step addition\n",
        "def one_step_add():\n",
        "  import random\n",
        "  # display problem\n",
        "  a = random.randint(-4,10)\n",
        "  b = random.randint(2,24)\n",
        "  print(\"x+\",a,\"=\",b)\n",
        "  ans = float(input(\"x= \"))\n",
        "  answer = b-a\n",
        "  # Test input\n",
        "  if ans==answer:\n",
        "    print(\"Correct! \\n\")\n",
        "  else:\n",
        "    print(\"Try again\")\n",
        "    print(\"The correct answer is \", answer, \"\\n\")\n",
        "\n",
        " # one step addition with negative numbers\n",
        "def one_step_subtract():\n",
        "    import random\n",
        "    a = random.randint(-19,-1)\n",
        "    b = random.randint(2,24)\n",
        "    print(a,\"+x=\",b)\n",
        "    ans = float(input(\"x=\"))\n",
        "    #test\n",
        "    answer = b-a\n",
        "    if ans==answer:\n",
        "        print(\"Correct!\\n\")\n",
        "    else:\n",
        "      print(\"Try again\")\n",
        "      print(\"The correct answer is\", answer, \"\\n\")\n",
        "\n",
        "# one_step_mult()\n",
        "# one_step_add()\n",
        "one_step_subtract()"
      ],
      "metadata": {
        "colab": {
          "base_uri": "https://localhost:8080/"
        },
        "id": "26w_Tljc6D6e",
        "outputId": "eb48bbb0-a997-4af0-9ad5-00be46e98315"
      },
      "execution_count": null,
      "outputs": [
        {
          "output_type": "stream",
          "name": "stdout",
          "text": [
            "-3 +x= 21\n",
            "x=24\n",
            "Correct!\n",
            "\n"
          ]
        }
      ]
    },
    {
      "cell_type": "markdown",
      "source": [],
      "metadata": {
        "id": "j602pOghN52a"
      }
    },
    {
      "cell_type": "markdown",
      "source": [
        "# Positive and negative numbers"
      ],
      "metadata": {
        "id": "MwC9oaesODt0"
      }
    },
    {
      "cell_type": "code",
      "source": [
        "print(10**1)\n",
        "print(10**2)\n",
        "print(10**3)\n",
        "\n",
        "print(10**0)\n",
        "\n",
        "print(10**-1)\n",
        "print(10**-2)\n",
        "print(10**-3)"
      ],
      "metadata": {
        "colab": {
          "base_uri": "https://localhost:8080/"
        },
        "id": "u08P4O97OLgh",
        "outputId": "b7286784-b8cf-4041-d175-8658dd50f9e1"
      },
      "execution_count": null,
      "outputs": [
        {
          "output_type": "stream",
          "name": "stdout",
          "text": [
            "10\n",
            "100\n",
            "1000\n",
            "1\n",
            "0.1\n",
            "0.01\n",
            "0.001\n"
          ]
        }
      ]
    },
    {
      "cell_type": "markdown",
      "source": [
        "# User input comes in as a string. You can find the lenght of the string"
      ],
      "metadata": {
        "id": "zWpF8u6HQQbi"
      }
    },
    {
      "cell_type": "code",
      "source": [
        "text = input(\"Enter a number \")\n",
        "print(text)\n",
        "\n",
        "print(len(text))\n",
        "\n",
        "# error - can't do math here\n",
        "# print(text+3)"
      ],
      "metadata": {
        "colab": {
          "base_uri": "https://localhost:8080/"
        },
        "id": "MlpimlDsPzlM",
        "outputId": "b2108b43-808c-4aa5-bf68-9037b290f3ea"
      },
      "execution_count": null,
      "outputs": [
        {
          "output_type": "stream",
          "name": "stdout",
          "text": [
            "Enter a number .233\n",
            ".233\n",
            "4\n"
          ]
        }
      ]
    },
    {
      "cell_type": "code",
      "source": [
        "text = input(\"Enter a number\")\n",
        "num = float(text)\n",
        "print(num+4)"
      ],
      "metadata": {
        "colab": {
          "base_uri": "https://localhost:8080/"
        },
        "id": "CFbE-eViQ6i5",
        "outputId": "50fc321d-0cc3-46d4-8305-187d1a8585e6"
      },
      "execution_count": null,
      "outputs": [
        {
          "output_type": "stream",
          "name": "stdout",
          "text": [
            "Enter a number.234\n",
            "4.234\n"
          ]
        }
      ]
    },
    {
      "cell_type": "code",
      "source": [
        "# Get string input, which will include a decimal point\n",
        "digits = input(\"Enter a decimal number to convert: \")\n",
        "\n",
        "# Get number of decimal places as an integer\n",
        "exponent = int(len(digits)) - 1\n",
        "\n",
        "# Convert the input to a float number\n",
        "n = float(digits)\n",
        "\n",
        "# Use the exponent to get the numerator\n",
        "numerator = int(n * 10**exponent)\n",
        "print(numerator)\n",
        "\n",
        "# Use the exponent to get the denominator\n",
        "denominator = int(10**exponent)\n",
        "\n",
        "# Percent is the first two decimal places\n",
        "percent = n * 100\n",
        "\n",
        "# Output\n",
        "print(\"The decimal is\", n)\n",
        "print(\"The fraction is\", numerator, \"/\", denominator)\n",
        "print(\"The percent is\", percent, \"%\")"
      ],
      "metadata": {
        "colab": {
          "base_uri": "https://localhost:8080/"
        },
        "id": "PXEofAlURbVA",
        "outputId": "8be19d5e-c372-4942-cfae-257140ac04a3"
      },
      "execution_count": null,
      "outputs": [
        {
          "output_type": "stream",
          "name": "stdout",
          "text": [
            "Enter a decimal number to convert: 5.67\n",
            "5670\n",
            "The decimal is 5.67\n",
            "The fraction is 5670 / 1000\n",
            "The percent is 567.0 %\n"
          ]
        }
      ]
    },
    {
      "cell_type": "code",
      "source": [],
      "metadata": {
        "id": "smP-SxFCTz8R"
      },
      "execution_count": null,
      "outputs": []
    }
  ]
}